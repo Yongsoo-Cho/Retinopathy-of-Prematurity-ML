{
 "cells": [
  {
   "cell_type": "code",
   "execution_count": 52,
   "metadata": {},
   "outputs": [],
   "source": [
    "#Import modules\n",
    "import torch\n",
    "import pandas as pd\n",
    "import os\n",
    "import numpy as np \n",
    "import matplotlib.pyplot as plt\n",
    "from torchvision import transforms\n",
    "from PIL import Image\n",
    "\n",
    "device = (\"cuda\" if torch.cuda.is_available() else \"cpu\")"
   ]
  },
  {
   "cell_type": "code",
   "execution_count": 73,
   "metadata": {},
   "outputs": [],
   "source": [
    "transforms = transforms.Compose([\n",
    "    transforms.Resize((256, 256)),\n",
    "    transforms.ToTensor(),\n",
    "    transforms.Normalize((0.5,),(0.5,))\n",
    "])\n",
    "\n",
    "def load_and_transform(img_name):\n",
    "    image = Image.open(img_name).convert(\"RGB\")\n",
    "    return transforms(image)\n",
    "\n",
    "def imshow(img_path):\n",
    "    image = Image.open(img_path).convert(\"RGB\")\n",
    "    image_tensor = transforms(image)\n",
    "\n",
    "    img = image_tensor.numpy()\n",
    "    img = np.transpose(img, (1,2,0))\n",
    "    img = img * 0.5 + 0.5\n",
    "\n",
    "    plt.imshow(img)\n",
    "    plt.axis(\"off\")\n",
    "    plt.show()"
   ]
  },
  {
   "cell_type": "code",
   "execution_count": null,
   "metadata": {},
   "outputs": [],
   "source": [
    "root_dir = 'image/'\n",
    "class_folders = sorted(os.listdir(root_dir))\n",
    "\n",
    "label_map = {folder: idx for idx, folder in enumerate(class_folders)}\n",
    "del label_map['.DS_Store']\n",
    "\n",
    "data = []\n",
    "\n",
    "for folder in class_folders:\n",
    "    folder_path = os.path.join(root_dir, folder)\n",
    "    if os.path.isdir(folder_path):\n",
    "        for img_name in os.listdir(folder_path):\n",
    "            if img_name.endswith('.jpg'):\n",
    "                data.append({\"img_name\": folder_path+'/'+img_name, \"label\": label_map[folder]})\n",
    "\n",
    "df = pd.DataFrame(data)\n",
    "\n",
    "df[\"label\"] = df[\"label\"].astype(int) \n",
    "df[\"label\"] = df[\"label\"] - 1  \n",
    "df[\"img_tensors\"] = df.apply(lambda row: load_and_transform(row[\"img_name\"]), axis=1)"
   ]
  },
  {
   "cell_type": "code",
   "execution_count": 75,
   "metadata": {},
   "outputs": [
    {
     "data": {
      "text/html": [
       "<div>\n",
       "<style scoped>\n",
       "    .dataframe tbody tr th:only-of-type {\n",
       "        vertical-align: middle;\n",
       "    }\n",
       "\n",
       "    .dataframe tbody tr th {\n",
       "        vertical-align: top;\n",
       "    }\n",
       "\n",
       "    .dataframe thead th {\n",
       "        text-align: right;\n",
       "    }\n",
       "</style>\n",
       "<table border=\"1\" class=\"dataframe\">\n",
       "  <thead>\n",
       "    <tr style=\"text-align: right;\">\n",
       "      <th></th>\n",
       "      <th>img_name</th>\n",
       "      <th>label</th>\n",
       "      <th>img_tensors</th>\n",
       "    </tr>\n",
       "  </thead>\n",
       "  <tbody>\n",
       "    <tr>\n",
       "      <th>0</th>\n",
       "      <td>image/Normal/Normal_55.jpg</td>\n",
       "      <td>0</td>\n",
       "      <td>[[[tensor(-1.), tensor(-1.), tensor(-1.), tens...</td>\n",
       "    </tr>\n",
       "    <tr>\n",
       "      <th>1</th>\n",
       "      <td>image/Normal/Normal_41.jpg</td>\n",
       "      <td>0</td>\n",
       "      <td>[[[tensor(-1.), tensor(-1.), tensor(-1.), tens...</td>\n",
       "    </tr>\n",
       "    <tr>\n",
       "      <th>2</th>\n",
       "      <td>image/Normal/Normal_128.jpg</td>\n",
       "      <td>0</td>\n",
       "      <td>[[[tensor(-1.), tensor(-1.), tensor(-1.), tens...</td>\n",
       "    </tr>\n",
       "  </tbody>\n",
       "</table>\n",
       "</div>"
      ],
      "text/plain": [
       "                      img_name  label  \\\n",
       "0   image/Normal/Normal_55.jpg      0   \n",
       "1   image/Normal/Normal_41.jpg      0   \n",
       "2  image/Normal/Normal_128.jpg      0   \n",
       "\n",
       "                                         img_tensors  \n",
       "0  [[[tensor(-1.), tensor(-1.), tensor(-1.), tens...  \n",
       "1  [[[tensor(-1.), tensor(-1.), tensor(-1.), tens...  \n",
       "2  [[[tensor(-1.), tensor(-1.), tensor(-1.), tens...  "
      ]
     },
     "execution_count": 75,
     "metadata": {},
     "output_type": "execute_result"
    }
   ],
   "source": [
    "df.head(3)"
   ]
  },
  {
   "cell_type": "code",
   "execution_count": 77,
   "metadata": {},
   "outputs": [
    {
     "name": "stdout",
     "output_type": "stream",
     "text": [
      "torch.Size([32, 3, 256, 256]) torch.Size([32])\n"
     ]
    }
   ],
   "source": [
    "from torch.utils.data import Dataset, DataLoader, random_split\n",
    "\n",
    "class ImageDataset(Dataset):\n",
    "    def __init__(self, df):\n",
    "        self.img_tensors = df[\"img_tensors\"].tolist()\n",
    "        self.labels = df[\"label\"].tolist()\n",
    "    def __len__(self):\n",
    "        return len(self.img_tensors)\n",
    "    def __getitem__(self, idx):\n",
    "        return self.img_tensors[idx], self.labels[idx]\n",
    "    \n",
    "dataset = ImageDataset(df)\n",
    "\n",
    "train_size = int(0.8*len(dataset))\n",
    "test_size = len(dataset) - train_size\n",
    "\n",
    "train_dataset, test_dataset = random_split(dataset, [train_size, test_size])\n",
    "train_loader = DataLoader(train_dataset, batch_size=32, shuffle=True)\n",
    "test_loader = DataLoader(test_dataset, batch_size=32, shuffle=True)\n",
    "\n",
    "images, labels = next(iter(train_loader))\n",
    "print(images.shape, labels.shape)"
   ]
  },
  {
   "cell_type": "code",
   "execution_count": null,
   "metadata": {},
   "outputs": [
    {
     "name": "stdout",
     "output_type": "stream",
     "text": [
      "Training Finished\n",
      "Accuracy 33.18%\n"
     ]
    }
   ],
   "source": [
    "import torch.nn as nn\n",
    "import torch.optim as optim\n",
    "import torchvision\n",
    "import torchvision.transforms as transforms\n",
    "import torch.nn.functional as F\n",
    "\n",
    "\n",
    "\n",
    "class Net(nn.Module):\n",
    "    def __init__(self):\n",
    "        super(Net, self).__init__()\n",
    "        self.conv1 = nn.Conv2d(3, 6, 5)  \n",
    "        self.pool = nn.MaxPool2d(2, 2)   \n",
    "        self.conv2 = nn.Conv2d(6, 16, 5)\n",
    "        self.pool = nn.MaxPool2d(2, 2)  \n",
    "\n",
    "        self.flatten_size = 16 * 61 * 61  \n",
    "        self.fc1 = nn.Linear(self.flatten_size, 120)\n",
    "        self.fc2 = nn.Linear(120, 84)\n",
    "        self.fc3 = nn.Linear(84, 5) \n",
    "\n",
    "    def forward(self, x):\n",
    "        x = self.pool(F.relu(self.conv1(x))) \n",
    "        x = self.pool(F.relu(self.conv2(x))) \n",
    "\n",
    "        x = x.view(x.size(0), -1)\n",
    "        x = F.relu(self.fc1(x))\n",
    "        x = F.relu(self.fc2(x))\n",
    "        x = self.fc3(x)\n",
    "        return x\n",
    "\n",
    "\n",
    "net = Net()\n",
    "criterion = nn.CrossEntropyLoss()\n",
    "optimizer = optim.SGD(net.parameters(), lr=0.001, momentum=0.9)\n",
    "\n",
    "for epoch in range(2):\n",
    "    running_loss = 0.0\n",
    "    for i, data in enumerate(train_loader, 0):\n",
    "        inputs, labels = data\n",
    "\n",
    "        optimizer.zero_grad()\n",
    "        outputs = net(inputs)\n",
    "        loss = criterion(outputs, labels)\n",
    "        loss.backward()\n",
    "        optimizer.step()\n",
    "\n",
    "        running_loss += loss.item()\n",
    "        if i % 200 == 199:\n",
    "            print(f'[Epoch {epoch+1}, Batch {i+1}] Loss: {running_loss / 200:.3f}')\n",
    "            running_loss = 0.0\n",
    "\n",
    "print(\"Training Finished\")\n",
    "\n",
    "correct = 0\n",
    "total = 0\n",
    "with torch.no_grad():\n",
    "    for data in test_loader:\n",
    "        images, labels = data\n",
    "        outputs = net(images)\n",
    "        _, predicted = torch.max(outputs, 1)\n",
    "        total += labels.size(0)\n",
    "        correct += (predicted == labels).sum().item()\n",
    "\n",
    "print(f'Accuracy {100 * correct / total:.2f}%')"
   ]
  },
  {
   "cell_type": "code",
   "execution_count": null,
   "metadata": {},
   "outputs": [],
   "source": [
    "# Now we have data loaded, few things to do from here:\n",
    "# - feature engineering\n",
    "# - try out image preprocessing\n",
    "# - augmenting dataset \n",
    "# - transformer architecture"
   ]
  }
 ],
 "metadata": {
  "kernelspec": {
   "display_name": "test01",
   "language": "python",
   "name": "python3"
  },
  "language_info": {
   "codemirror_mode": {
    "name": "ipython",
    "version": 3
   },
   "file_extension": ".py",
   "mimetype": "text/x-python",
   "name": "python",
   "nbconvert_exporter": "python",
   "pygments_lexer": "ipython3",
   "version": "3.12.9"
  }
 },
 "nbformat": 4,
 "nbformat_minor": 2
}
